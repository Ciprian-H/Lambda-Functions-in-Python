{
 "cells": [
  {
   "cell_type": "markdown",
   "id": "b368ac9c",
   "metadata": {},
   "source": [
    "# Lambda Functions in Python\n",
    "---\n",
    "### Agenda:\n",
    "\n",
    "#### Task 1: what is Lambda expression?\n",
    "#### Task 2: Lambda expressions and lists\n",
    "    - what is map function?\n",
    "    - map function and lambda\n",
    "#### Task 3: Lambda expressions combined if else statement \n",
    "    - what is filter function ?\n",
    "#### Task 4: Lambda expressions and sorting \n",
    "    - sorting a list of tuples using Lambda \n",
    "    - sorting a list of dictionaries using Lambda\n",
    "#### Task 5: Data Manipulation and Exploration using Lambda Expressions"
   ]
  },
  {
   "cell_type": "markdown",
   "id": "98b67cdd",
   "metadata": {},
   "source": [
    "### Task 1: What is Lambda Expression ? "
   ]
  },
  {
   "cell_type": "markdown",
   "id": "902ec408",
   "metadata": {},
   "source": [
    "- Let's define a python function:  get two numerical variables as an input, and calculate the multiplication of two values and return it.  "
   ]
  },
  {
   "cell_type": "code",
   "execution_count": 1,
   "id": "04e36675",
   "metadata": {},
   "outputs": [
    {
     "data": {
      "text/plain": [
       "20"
      ]
     },
     "execution_count": 1,
     "metadata": {},
     "output_type": "execute_result"
    }
   ],
   "source": [
    "def mul(a,b):\n",
    "    r=a*b\n",
    "    return r\n",
    "\n",
    "mul(4,5)"
   ]
  },
  {
   "cell_type": "markdown",
   "id": "2464c811",
   "metadata": {},
   "source": [
    "- let's define a lambda expression with the same purpose\n",
    "\n",
    "<img src=\"images/lambdaa.png\" >"
   ]
  },
  {
   "cell_type": "code",
   "execution_count": 2,
   "id": "3b510c35",
   "metadata": {},
   "outputs": [],
   "source": [
    "mul_lambda = lambda a,b: a*b"
   ]
  },
  {
   "cell_type": "markdown",
   "id": "fb90de63",
   "metadata": {},
   "source": [
    "- let's check the variable type "
   ]
  },
  {
   "cell_type": "code",
   "execution_count": 3,
   "id": "4c95413b",
   "metadata": {},
   "outputs": [
    {
     "data": {
      "text/plain": [
       "<function __main__.<lambda>(a, b)>"
      ]
     },
     "execution_count": 3,
     "metadata": {},
     "output_type": "execute_result"
    }
   ],
   "source": [
    "mul_lambda"
   ]
  },
  {
   "cell_type": "markdown",
   "id": "c1d4a1c0",
   "metadata": {},
   "source": [
    "- let's call the lambda "
   ]
  },
  {
   "cell_type": "code",
   "execution_count": 4,
   "id": "2a05dd24",
   "metadata": {},
   "outputs": [
    {
     "data": {
      "text/plain": [
       "40"
      ]
     },
     "execution_count": 4,
     "metadata": {},
     "output_type": "execute_result"
    }
   ],
   "source": [
    "mul_lambda(8,5)"
   ]
  },
  {
   "cell_type": "markdown",
   "id": "0bb01ac3",
   "metadata": {},
   "source": [
    "- example : define a lambda function: gets a value and return square of the value"
   ]
  },
  {
   "cell_type": "code",
   "execution_count": 5,
   "id": "ea8425b7",
   "metadata": {},
   "outputs": [
    {
     "data": {
      "text/plain": [
       "9"
      ]
     },
     "execution_count": 5,
     "metadata": {},
     "output_type": "execute_result"
    }
   ],
   "source": [
    "square = lambda value: value**2\n",
    "square(3)"
   ]
  },
  {
   "cell_type": "markdown",
   "id": "26e0d1d8",
   "metadata": {},
   "source": [
    "- example : define lambda function: gets three values and return a list containing those values"
   ]
  },
  {
   "cell_type": "code",
   "execution_count": 6,
   "id": "5a147200",
   "metadata": {},
   "outputs": [
    {
     "data": {
      "text/plain": [
       "[3, 4, 5]"
      ]
     },
     "execution_count": 6,
     "metadata": {},
     "output_type": "execute_result"
    }
   ],
   "source": [
    "to_list = lambda v1,v2,v3: [v1,v2,v3]\n",
    "to_list(3,4,5)"
   ]
  },
  {
   "cell_type": "markdown",
   "id": "b0961d85",
   "metadata": {},
   "source": [
    "- example : define lambda function : gets a string and return the first character of the string"
   ]
  },
  {
   "cell_type": "code",
   "execution_count": 7,
   "id": "dfb2b628",
   "metadata": {},
   "outputs": [
    {
     "data": {
      "text/plain": [
       "'H'"
      ]
     },
     "execution_count": 7,
     "metadata": {},
     "output_type": "execute_result"
    }
   ],
   "source": [
    "first_char = lambda string: string[0]\n",
    "first_char(\"Hello\")"
   ]
  },
  {
   "cell_type": "markdown",
   "id": "75626516",
   "metadata": {},
   "source": [
    "- Exercise : define a lambda function: gets a string and return the length of it "
   ]
  },
  {
   "cell_type": "code",
   "execution_count": 8,
   "id": "7377e815",
   "metadata": {},
   "outputs": [
    {
     "data": {
      "text/plain": [
       "5"
      ]
     },
     "execution_count": 8,
     "metadata": {},
     "output_type": "execute_result"
    }
   ],
   "source": [
    "Lenght = lambda string: len(string)\n",
    "Lenght(\"Hello\")"
   ]
  },
  {
   "cell_type": "markdown",
   "id": "8bd28812",
   "metadata": {},
   "source": [
    "### Task 2: Lambda Functions and Lists"
   ]
  },
  {
   "cell_type": "markdown",
   "id": "64b94c3e",
   "metadata": {},
   "source": [
    "- let's define a normal function: get's a list, return a list of all values to the power of 2 "
   ]
  },
  {
   "cell_type": "code",
   "execution_count": 9,
   "id": "b1fe4a58",
   "metadata": {},
   "outputs": [],
   "source": [
    "numbers = [1,2,3,10,9,3,4,10,7]"
   ]
  },
  {
   "cell_type": "code",
   "execution_count": 10,
   "id": "bd258ec3",
   "metadata": {},
   "outputs": [
    {
     "data": {
      "text/plain": [
       "[1, 4, 9, 100, 81, 9, 16, 100, 49]"
      ]
     },
     "execution_count": 10,
     "metadata": {},
     "output_type": "execute_result"
    }
   ],
   "source": [
    "def list_sqaure (list_):\n",
    "    new_list = []\n",
    "    for element in list_:\n",
    "        new_list.append(element**2)\n",
    "    return new_list\n",
    "\n",
    "list_sqaure(numbers)"
   ]
  },
  {
   "cell_type": "markdown",
   "id": "fbe08de5",
   "metadata": {},
   "source": [
    "- let's use map function "
   ]
  },
  {
   "cell_type": "code",
   "execution_count": 11,
   "id": "1640628a",
   "metadata": {},
   "outputs": [
    {
     "data": {
      "text/plain": [
       "[1, 4, 9, 100, 81, 9, 16, 100, 49]"
      ]
     },
     "execution_count": 11,
     "metadata": {},
     "output_type": "execute_result"
    }
   ],
   "source": [
    "def func(element):\n",
    "    return element**2\n",
    "list(map(func, numbers))"
   ]
  },
  {
   "cell_type": "markdown",
   "id": "37d5f78e",
   "metadata": {},
   "source": [
    "- map function and lambda "
   ]
  },
  {
   "cell_type": "code",
   "execution_count": 12,
   "id": "f55f8ef6",
   "metadata": {},
   "outputs": [
    {
     "data": {
      "text/plain": [
       "[1, 4, 9, 100, 81, 9, 16, 100, 49]"
      ]
     },
     "execution_count": 12,
     "metadata": {},
     "output_type": "execute_result"
    }
   ],
   "source": [
    "func_lambda = lambda element: element**2\n",
    "list(map(func_lambda, numbers))"
   ]
  },
  {
   "cell_type": "markdown",
   "id": "120f6952",
   "metadata": {},
   "source": [
    "- let's make it even more compact"
   ]
  },
  {
   "cell_type": "code",
   "execution_count": 13,
   "id": "a5619f15",
   "metadata": {},
   "outputs": [
    {
     "data": {
      "text/plain": [
       "[1, 4, 9, 100, 81, 9, 16, 100, 49]"
      ]
     },
     "execution_count": 13,
     "metadata": {},
     "output_type": "execute_result"
    }
   ],
   "source": [
    "list(map(lambda element: element **2, numbers))"
   ]
  },
  {
   "cell_type": "markdown",
   "id": "9f9c2452",
   "metadata": {},
   "source": [
    "- example: I have a list of words, let's use map function to convert all the words into upper case."
   ]
  },
  {
   "cell_type": "code",
   "execution_count": 14,
   "id": "06ecdd1d",
   "metadata": {},
   "outputs": [],
   "source": [
    "words = [\"football\",\"python\",\"java\",\"coffee\",\"keyboard\"]"
   ]
  },
  {
   "cell_type": "code",
   "execution_count": 15,
   "id": "17949bff",
   "metadata": {},
   "outputs": [
    {
     "data": {
      "text/plain": [
       "['FOOTBALL', 'PYTHON', 'JAVA', 'COFFEE', 'KEYBOARD']"
      ]
     },
     "execution_count": 15,
     "metadata": {},
     "output_type": "execute_result"
    }
   ],
   "source": [
    "list(map(lambda word: word.upper(), words))"
   ]
  },
  {
   "cell_type": "markdown",
   "id": "ee470a3b",
   "metadata": {},
   "source": [
    "- Exercise : we have a list of sentences, use map function and lambda to convert all the sentences into lower case. "
   ]
  },
  {
   "cell_type": "code",
   "execution_count": 16,
   "id": "cf941eb8",
   "metadata": {},
   "outputs": [],
   "source": [
    "sentences = [\n",
    "    \"Today is Thursday and weather Is Sunny.\",\n",
    "    \"Tomorrow at 14 PM, Meeting with Daniel.\",\n",
    "    \"Python is a powerfull Tool For DataScience.\",\n",
    "    \"Tommy Called Today, He told me He does not feel Good... I think It's COVID!\"\n",
    "]"
   ]
  },
  {
   "cell_type": "code",
   "execution_count": 17,
   "id": "b2d8cf07",
   "metadata": {},
   "outputs": [
    {
     "data": {
      "text/plain": [
       "['today is thursday and weather is sunny.',\n",
       " 'tomorrow at 14 pm, meeting with daniel.',\n",
       " 'python is a powerfull tool for datascience.',\n",
       " \"tommy called today, he told me he does not feel good... i think it's covid!\"]"
      ]
     },
     "execution_count": 17,
     "metadata": {},
     "output_type": "execute_result"
    }
   ],
   "source": [
    "list(map(lambda sentence: sentence.lower(), sentences))"
   ]
  },
  {
   "cell_type": "markdown",
   "id": "55932e4d",
   "metadata": {},
   "source": [
    "### Task 3 : Lambda Expression combined with if statement"
   ]
  },
  {
   "cell_type": "markdown",
   "id": "17984a3e",
   "metadata": {},
   "source": [
    "- let's define a normal function: gets a value and return true of the value is even, return false if the value is odd"
   ]
  },
  {
   "cell_type": "code",
   "execution_count": 18,
   "id": "7a10c1ae",
   "metadata": {},
   "outputs": [
    {
     "data": {
      "text/plain": [
       "False"
      ]
     },
     "execution_count": 18,
     "metadata": {},
     "output_type": "execute_result"
    }
   ],
   "source": [
    "def isEven(value):\n",
    "    if value%2==0:\n",
    "        return True\n",
    "    else:\n",
    "        return False\n",
    "        \n",
    "isEven(5)"
   ]
  },
  {
   "cell_type": "markdown",
   "id": "859e0d39",
   "metadata": {},
   "source": [
    "- let's define a lambda with same purpose"
   ]
  },
  {
   "cell_type": "code",
   "execution_count": 19,
   "id": "a30c706d",
   "metadata": {},
   "outputs": [
    {
     "data": {
      "text/plain": [
       "False"
      ]
     },
     "execution_count": 19,
     "metadata": {},
     "output_type": "execute_result"
    }
   ],
   "source": [
    "isEven_lambda = lambda value: True if value%2==0 else False\n",
    "isEven_lambda(3)"
   ]
  },
  {
   "cell_type": "markdown",
   "id": "3d45122b",
   "metadata": {},
   "source": [
    "- consider a list of numbers, define a normal function : gets a list of numbers and create a new list that contains only the even numbers from our input list"
   ]
  },
  {
   "cell_type": "code",
   "execution_count": 20,
   "id": "725bb696",
   "metadata": {},
   "outputs": [],
   "source": [
    "numbers = [1,2,3,10,9,3,4,10,7]"
   ]
  },
  {
   "cell_type": "code",
   "execution_count": 21,
   "id": "fb308ecf",
   "metadata": {},
   "outputs": [
    {
     "data": {
      "text/plain": [
       "[2, 10, 4, 10]"
      ]
     },
     "execution_count": 21,
     "metadata": {},
     "output_type": "execute_result"
    }
   ],
   "source": [
    "def filter_even(list_):\n",
    "    new_list = []\n",
    "    for element in list_:\n",
    "        if element %2==0:\n",
    "            new_list.append(element)\n",
    "    return new_list\n",
    "    \n",
    "filter_even(numbers)"
   ]
  },
  {
   "cell_type": "markdown",
   "id": "d5e08a2a",
   "metadata": {},
   "source": [
    "- let's use filter function "
   ]
  },
  {
   "cell_type": "code",
   "execution_count": 22,
   "id": "1d84df87",
   "metadata": {},
   "outputs": [
    {
     "data": {
      "text/plain": [
       "[2, 10, 4, 10]"
      ]
     },
     "execution_count": 22,
     "metadata": {},
     "output_type": "execute_result"
    }
   ],
   "source": [
    "def func(element):\n",
    "    if element %2==0:\n",
    "        return True\n",
    "    else:\n",
    "        return False\n",
    "list(filter(func, numbers))"
   ]
  },
  {
   "cell_type": "code",
   "execution_count": 23,
   "id": "d519cca7",
   "metadata": {},
   "outputs": [
    {
     "data": {
      "text/plain": [
       "[2, 10, 4, 10]"
      ]
     },
     "execution_count": 23,
     "metadata": {},
     "output_type": "execute_result"
    }
   ],
   "source": [
    "list(filter(lambda element: True if element%2==0 else False, numbers))"
   ]
  },
  {
   "cell_type": "markdown",
   "id": "694bab33",
   "metadata": {},
   "source": [
    "- example: I have a list of names, let's use filter function and lambda to filter out the names starting with 'A'"
   ]
  },
  {
   "cell_type": "code",
   "execution_count": 24,
   "id": "c7d55149",
   "metadata": {},
   "outputs": [],
   "source": [
    "names = [\"John\",\"Alex\",\"Maiki\",\"Alice\",\"Layla\",\"Hanna\",\"Alexander\",\"Anil\",\"Angela\",\"Lola\",\"Thelma\",\"Clara\"]"
   ]
  },
  {
   "cell_type": "code",
   "execution_count": 25,
   "id": "f6dc818e",
   "metadata": {},
   "outputs": [
    {
     "data": {
      "text/plain": [
       "['Alex', 'Alice', 'Alexander', 'Anil', 'Angela']"
      ]
     },
     "execution_count": 25,
     "metadata": {},
     "output_type": "execute_result"
    }
   ],
   "source": [
    "list(filter(lambda name: name if name[0]==\"A\" else \"\", names))"
   ]
  },
  {
   "cell_type": "code",
   "execution_count": 26,
   "id": "6d456745",
   "metadata": {},
   "outputs": [
    {
     "data": {
      "text/plain": [
       "['Alex', 'Alice', 'Alexander', 'Anil', 'Angela']"
      ]
     },
     "execution_count": 26,
     "metadata": {},
     "output_type": "execute_result"
    }
   ],
   "source": [
    "list(filter(lambda name: True if name[0]==\"A\" else False, names))"
   ]
  },
  {
   "cell_type": "markdown",
   "id": "69f0895f",
   "metadata": {},
   "source": [
    "- example: use filter and lambda function to filter out the names that starts with an 'A' and with the length of 4 "
   ]
  },
  {
   "cell_type": "code",
   "execution_count": 27,
   "id": "b5db7f6b",
   "metadata": {},
   "outputs": [
    {
     "data": {
      "text/plain": [
       "['Alex', 'Anil']"
      ]
     },
     "execution_count": 27,
     "metadata": {},
     "output_type": "execute_result"
    }
   ],
   "source": [
    "list(filter(lambda name: name if name[0]==\"A\" and len(name)==4 else \"\", names))"
   ]
  },
  {
   "cell_type": "markdown",
   "id": "85c92656",
   "metadata": {},
   "source": [
    "- exercise: we have a list of numbers, use map function and lambda to multiply the odd values by 10 and the even values by 100 in our numbers list"
   ]
  },
  {
   "cell_type": "code",
   "execution_count": 28,
   "id": "e05c4c5d",
   "metadata": {},
   "outputs": [],
   "source": [
    "numbers = [1,2,3,10,9,3,4,10,7]"
   ]
  },
  {
   "cell_type": "code",
   "execution_count": 29,
   "id": "04c5010c",
   "metadata": {},
   "outputs": [
    {
     "data": {
      "text/plain": [
       "[10, 200, 30, 1000, 90, 30, 400, 1000, 70]"
      ]
     },
     "execution_count": 29,
     "metadata": {},
     "output_type": "execute_result"
    }
   ],
   "source": [
    "func = lambda number: number*100 if number%2==0 else number*10\n",
    "list(map(func, numbers))"
   ]
  },
  {
   "cell_type": "code",
   "execution_count": 30,
   "id": "8a65f1f8",
   "metadata": {},
   "outputs": [
    {
     "data": {
      "text/plain": [
       "[10, 200, 30, 1000, 90, 30, 400, 1000, 70]"
      ]
     },
     "execution_count": 30,
     "metadata": {},
     "output_type": "execute_result"
    }
   ],
   "source": [
    "list(map(lambda number: number*100 if number %2==0 else number*10, numbers))"
   ]
  },
  {
   "cell_type": "markdown",
   "id": "139d15f3",
   "metadata": {},
   "source": [
    "### Task 4: Lambda expressions and sorting "
   ]
  },
  {
   "cell_type": "markdown",
   "id": "f80576e9",
   "metadata": {},
   "source": [
    "#### Sorting a list of tuples \n",
    "- Let's say we have a list of products with their respective prices, stored as a tupple in a list."
   ]
  },
  {
   "cell_type": "code",
   "execution_count": 31,
   "id": "f3999e22",
   "metadata": {},
   "outputs": [],
   "source": [
    "products = [\n",
    "    (\"Cheese\",1.50),\n",
    "    (\"Banana Bread\",2.10),\n",
    "    (\"Chicken Meat\",3.50),\n",
    "    (\"Apple Juice\",0.45),\n",
    "    (\"Orange Juice\",1.25),\n",
    "    (\"Milk\",0.75),\n",
    "    (\"Mango\",1.25)\n",
    "]"
   ]
  },
  {
   "cell_type": "markdown",
   "id": "094f0415",
   "metadata": {},
   "source": [
    "- Let's sort the list based on the prices "
   ]
  },
  {
   "cell_type": "code",
   "execution_count": 32,
   "id": "7d96cab4",
   "metadata": {},
   "outputs": [
    {
     "data": {
      "text/plain": [
       "[('Apple Juice', 0.45),\n",
       " ('Banana Bread', 2.1),\n",
       " ('Cheese', 1.5),\n",
       " ('Chicken Meat', 3.5),\n",
       " ('Mango', 1.25),\n",
       " ('Milk', 0.75),\n",
       " ('Orange Juice', 1.25)]"
      ]
     },
     "execution_count": 32,
     "metadata": {},
     "output_type": "execute_result"
    }
   ],
   "source": [
    "products.sort()\n",
    "products"
   ]
  },
  {
   "cell_type": "code",
   "execution_count": 33,
   "id": "6308934f",
   "metadata": {},
   "outputs": [
    {
     "data": {
      "text/plain": [
       "[('Apple Juice', 0.45),\n",
       " ('Milk', 0.75),\n",
       " ('Mango', 1.25),\n",
       " ('Orange Juice', 1.25),\n",
       " ('Cheese', 1.5),\n",
       " ('Banana Bread', 2.1),\n",
       " ('Chicken Meat', 3.5)]"
      ]
     },
     "execution_count": 33,
     "metadata": {},
     "output_type": "execute_result"
    }
   ],
   "source": [
    "products.sort(key = lambda element: element[1])\n",
    "products"
   ]
  },
  {
   "cell_type": "markdown",
   "id": "ca45a6da",
   "metadata": {},
   "source": [
    "#### Sorting a list of dictionaries \n",
    "- Let's say we have a list of 7 person with their information (name, age, Income) stored in a dictionary."
   ]
  },
  {
   "cell_type": "code",
   "execution_count": 34,
   "id": "af3d9efa",
   "metadata": {},
   "outputs": [],
   "source": [
    "persons = [\n",
    "    {\"Name\" : \"Jake\" , \"Age\" : 23 , \"Income\"  : 450 },\n",
    "    {\"Name\" : \"Maria\" , \"Age\"  : 32 , \"Income\"  : 2550 },\n",
    "    {\"Name\" : \"Will\" , \"Age\"  : 43 , \"Income\"  : 4500 },\n",
    "    {\"Name\" : \"Layla\" , \"Age\"  : 12 , \"Income\"  : 0 },\n",
    "    {\"Name\" : \"Mina\" , \"Age\"  : 35 , \"Income\"  : 2100 },\n",
    "    {\"Name\" : \"Lola\" , \"Age\"  : 28 , \"Income\"  : 450 },\n",
    "    {\"Name\" : \"Thelma\" , \"Age\"  : 23 , \"Income\"  : 450 },\n",
    "]"
   ]
  },
  {
   "cell_type": "markdown",
   "id": "5cf73ab1",
   "metadata": {},
   "source": [
    "- sort the list based on each person's age "
   ]
  },
  {
   "cell_type": "code",
   "execution_count": 35,
   "id": "72e6afc3",
   "metadata": {},
   "outputs": [
    {
     "data": {
      "text/plain": [
       "[{'Name': 'Layla', 'Age': 12, 'Income': 0},\n",
       " {'Name': 'Jake', 'Age': 23, 'Income': 450},\n",
       " {'Name': 'Thelma', 'Age': 23, 'Income': 450},\n",
       " {'Name': 'Lola', 'Age': 28, 'Income': 450},\n",
       " {'Name': 'Maria', 'Age': 32, 'Income': 2550},\n",
       " {'Name': 'Mina', 'Age': 35, 'Income': 2100},\n",
       " {'Name': 'Will', 'Age': 43, 'Income': 4500}]"
      ]
     },
     "execution_count": 35,
     "metadata": {},
     "output_type": "execute_result"
    }
   ],
   "source": [
    "persons.sort(key= lambda person: person[\"Age\"])\n",
    "persons"
   ]
  },
  {
   "cell_type": "markdown",
   "id": "bc8d8acf",
   "metadata": {},
   "source": [
    "- Exercise: sort the list based on each person's income "
   ]
  },
  {
   "cell_type": "code",
   "execution_count": 36,
   "id": "83dcb341",
   "metadata": {},
   "outputs": [
    {
     "data": {
      "text/plain": [
       "[{'Name': 'Layla', 'Age': 12, 'Income': 0},\n",
       " {'Name': 'Jake', 'Age': 23, 'Income': 450},\n",
       " {'Name': 'Thelma', 'Age': 23, 'Income': 450},\n",
       " {'Name': 'Lola', 'Age': 28, 'Income': 450},\n",
       " {'Name': 'Mina', 'Age': 35, 'Income': 2100},\n",
       " {'Name': 'Maria', 'Age': 32, 'Income': 2550},\n",
       " {'Name': 'Will', 'Age': 43, 'Income': 4500}]"
      ]
     },
     "execution_count": 36,
     "metadata": {},
     "output_type": "execute_result"
    }
   ],
   "source": [
    "persons.sort(key = lambda person: person[\"Income\"])\n",
    "persons"
   ]
  },
  {
   "cell_type": "markdown",
   "id": "38683a8a",
   "metadata": {},
   "source": [
    "### Task 5: Data Manipulation and Exploration using Lambda Expressions\n",
    "- we have dataframe containing of information related to 11 Employees who are working in a technology company"
   ]
  },
  {
   "cell_type": "code",
   "execution_count": 37,
   "id": "415052aa",
   "metadata": {},
   "outputs": [
    {
     "data": {
      "text/html": [
       "<div>\n",
       "<style scoped>\n",
       "    .dataframe tbody tr th:only-of-type {\n",
       "        vertical-align: middle;\n",
       "    }\n",
       "\n",
       "    .dataframe tbody tr th {\n",
       "        vertical-align: top;\n",
       "    }\n",
       "\n",
       "    .dataframe thead th {\n",
       "        text-align: right;\n",
       "    }\n",
       "</style>\n",
       "<table border=\"1\" class=\"dataframe\">\n",
       "  <thead>\n",
       "    <tr style=\"text-align: right;\">\n",
       "      <th></th>\n",
       "      <th>Name</th>\n",
       "      <th>Hourly Wage</th>\n",
       "      <th>Type of contract</th>\n",
       "    </tr>\n",
       "  </thead>\n",
       "  <tbody>\n",
       "    <tr>\n",
       "      <th>0</th>\n",
       "      <td>Jeremy</td>\n",
       "      <td>6</td>\n",
       "      <td>Part-Time</td>\n",
       "    </tr>\n",
       "    <tr>\n",
       "      <th>1</th>\n",
       "      <td>Frank</td>\n",
       "      <td>7</td>\n",
       "      <td>Part-Time</td>\n",
       "    </tr>\n",
       "    <tr>\n",
       "      <th>2</th>\n",
       "      <td>Janet</td>\n",
       "      <td>22</td>\n",
       "      <td>Full-Time</td>\n",
       "    </tr>\n",
       "    <tr>\n",
       "      <th>3</th>\n",
       "      <td>Ryan</td>\n",
       "      <td>10</td>\n",
       "      <td>Part-Time</td>\n",
       "    </tr>\n",
       "    <tr>\n",
       "      <th>4</th>\n",
       "      <td>Mary</td>\n",
       "      <td>32</td>\n",
       "      <td>Full-Time</td>\n",
       "    </tr>\n",
       "    <tr>\n",
       "      <th>5</th>\n",
       "      <td>John</td>\n",
       "      <td>10</td>\n",
       "      <td>Part-Time</td>\n",
       "    </tr>\n",
       "    <tr>\n",
       "      <th>6</th>\n",
       "      <td>Alex</td>\n",
       "      <td>29</td>\n",
       "      <td>Full-Time</td>\n",
       "    </tr>\n",
       "    <tr>\n",
       "      <th>7</th>\n",
       "      <td>Maiki</td>\n",
       "      <td>10</td>\n",
       "      <td>Part-Time</td>\n",
       "    </tr>\n",
       "    <tr>\n",
       "      <th>8</th>\n",
       "      <td>Alice</td>\n",
       "      <td>12</td>\n",
       "      <td>Part-Time</td>\n",
       "    </tr>\n",
       "    <tr>\n",
       "      <th>9</th>\n",
       "      <td>Layla</td>\n",
       "      <td>10</td>\n",
       "      <td>Part-Time</td>\n",
       "    </tr>\n",
       "    <tr>\n",
       "      <th>10</th>\n",
       "      <td>Hanna</td>\n",
       "      <td>30</td>\n",
       "      <td>Full-Time</td>\n",
       "    </tr>\n",
       "  </tbody>\n",
       "</table>\n",
       "</div>"
      ],
      "text/plain": [
       "      Name  Hourly Wage Type of contract\n",
       "0   Jeremy            6        Part-Time\n",
       "1    Frank            7        Part-Time\n",
       "2    Janet           22        Full-Time\n",
       "3     Ryan           10        Part-Time\n",
       "4     Mary           32        Full-Time\n",
       "5     John           10        Part-Time\n",
       "6     Alex           29        Full-Time\n",
       "7    Maiki           10        Part-Time\n",
       "8    Alice           12        Part-Time\n",
       "9    Layla           10        Part-Time\n",
       "10   Hanna           30        Full-Time"
      ]
     },
     "execution_count": 37,
     "metadata": {},
     "output_type": "execute_result"
    }
   ],
   "source": [
    "import pandas as pd \n",
    "dataframe = pd.DataFrame({\n",
    "    'Name':['Jeremy','Frank','Janet','Ryan','Mary',\"John\",\"Alex\",\"Maiki\",\"Alice\",\"Layla\",\"Hanna\"],\n",
    "    'Hourly Wage' : [6,7,22,10,32,10,29,10,12,10,30],\n",
    "    'Type of contract' : [\"Part-Time\",\"Part-Time\",\"Full-Time\",\"Part-Time\",\n",
    "                          \"Full-Time\",\"Part-Time\",\"Full-Time\",\"Part-Time\",\n",
    "                          \"Part-Time\",\"Part-Time\",\"Full-Time\"]\n",
    "})\n",
    "dataframe"
   ]
  },
  {
   "cell_type": "markdown",
   "id": "5eb167e0",
   "metadata": {},
   "source": [
    "- let's add a column \"Daily Working Hours\", containing of number of hours each employee works in a day, based on their contract type. \n",
    "#### Assume that  : \n",
    "    - part-time job working hours : 20 hours per week (4 hours per day)\n",
    "    - full-time job working hours : 40 hours per week (8 hours per day)"
   ]
  },
  {
   "cell_type": "code",
   "execution_count": 38,
   "id": "7d43400d",
   "metadata": {},
   "outputs": [
    {
     "data": {
      "text/html": [
       "<div>\n",
       "<style scoped>\n",
       "    .dataframe tbody tr th:only-of-type {\n",
       "        vertical-align: middle;\n",
       "    }\n",
       "\n",
       "    .dataframe tbody tr th {\n",
       "        vertical-align: top;\n",
       "    }\n",
       "\n",
       "    .dataframe thead th {\n",
       "        text-align: right;\n",
       "    }\n",
       "</style>\n",
       "<table border=\"1\" class=\"dataframe\">\n",
       "  <thead>\n",
       "    <tr style=\"text-align: right;\">\n",
       "      <th></th>\n",
       "      <th>Name</th>\n",
       "      <th>Hourly Wage</th>\n",
       "      <th>Type of contract</th>\n",
       "      <th>Daily Working Hours</th>\n",
       "    </tr>\n",
       "  </thead>\n",
       "  <tbody>\n",
       "    <tr>\n",
       "      <th>0</th>\n",
       "      <td>Jeremy</td>\n",
       "      <td>6</td>\n",
       "      <td>Part-Time</td>\n",
       "      <td>4</td>\n",
       "    </tr>\n",
       "    <tr>\n",
       "      <th>1</th>\n",
       "      <td>Frank</td>\n",
       "      <td>7</td>\n",
       "      <td>Part-Time</td>\n",
       "      <td>4</td>\n",
       "    </tr>\n",
       "    <tr>\n",
       "      <th>2</th>\n",
       "      <td>Janet</td>\n",
       "      <td>22</td>\n",
       "      <td>Full-Time</td>\n",
       "      <td>8</td>\n",
       "    </tr>\n",
       "    <tr>\n",
       "      <th>3</th>\n",
       "      <td>Ryan</td>\n",
       "      <td>10</td>\n",
       "      <td>Part-Time</td>\n",
       "      <td>4</td>\n",
       "    </tr>\n",
       "    <tr>\n",
       "      <th>4</th>\n",
       "      <td>Mary</td>\n",
       "      <td>32</td>\n",
       "      <td>Full-Time</td>\n",
       "      <td>8</td>\n",
       "    </tr>\n",
       "    <tr>\n",
       "      <th>5</th>\n",
       "      <td>John</td>\n",
       "      <td>10</td>\n",
       "      <td>Part-Time</td>\n",
       "      <td>4</td>\n",
       "    </tr>\n",
       "    <tr>\n",
       "      <th>6</th>\n",
       "      <td>Alex</td>\n",
       "      <td>29</td>\n",
       "      <td>Full-Time</td>\n",
       "      <td>8</td>\n",
       "    </tr>\n",
       "    <tr>\n",
       "      <th>7</th>\n",
       "      <td>Maiki</td>\n",
       "      <td>10</td>\n",
       "      <td>Part-Time</td>\n",
       "      <td>4</td>\n",
       "    </tr>\n",
       "    <tr>\n",
       "      <th>8</th>\n",
       "      <td>Alice</td>\n",
       "      <td>12</td>\n",
       "      <td>Part-Time</td>\n",
       "      <td>4</td>\n",
       "    </tr>\n",
       "    <tr>\n",
       "      <th>9</th>\n",
       "      <td>Layla</td>\n",
       "      <td>10</td>\n",
       "      <td>Part-Time</td>\n",
       "      <td>4</td>\n",
       "    </tr>\n",
       "    <tr>\n",
       "      <th>10</th>\n",
       "      <td>Hanna</td>\n",
       "      <td>30</td>\n",
       "      <td>Full-Time</td>\n",
       "      <td>8</td>\n",
       "    </tr>\n",
       "  </tbody>\n",
       "</table>\n",
       "</div>"
      ],
      "text/plain": [
       "      Name  Hourly Wage Type of contract  Daily Working Hours\n",
       "0   Jeremy            6        Part-Time                    4\n",
       "1    Frank            7        Part-Time                    4\n",
       "2    Janet           22        Full-Time                    8\n",
       "3     Ryan           10        Part-Time                    4\n",
       "4     Mary           32        Full-Time                    8\n",
       "5     John           10        Part-Time                    4\n",
       "6     Alex           29        Full-Time                    8\n",
       "7    Maiki           10        Part-Time                    4\n",
       "8    Alice           12        Part-Time                    4\n",
       "9    Layla           10        Part-Time                    4\n",
       "10   Hanna           30        Full-Time                    8"
      ]
     },
     "execution_count": 38,
     "metadata": {},
     "output_type": "execute_result"
    }
   ],
   "source": [
    "dataframe['Daily Working Hours'] = dataframe['Type of contract'].apply(lambda element: 4 if element ==\"Part-Time\" else 8)\n",
    "dataframe"
   ]
  },
  {
   "cell_type": "markdown",
   "id": "17b0ac88",
   "metadata": {},
   "source": [
    "- Let's add a column \"Annual Income\", calculate Annual income of each employee"
   ]
  },
  {
   "cell_type": "code",
   "execution_count": 39,
   "id": "b4d20f55",
   "metadata": {},
   "outputs": [
    {
     "data": {
      "text/html": [
       "<div>\n",
       "<style scoped>\n",
       "    .dataframe tbody tr th:only-of-type {\n",
       "        vertical-align: middle;\n",
       "    }\n",
       "\n",
       "    .dataframe tbody tr th {\n",
       "        vertical-align: top;\n",
       "    }\n",
       "\n",
       "    .dataframe thead th {\n",
       "        text-align: right;\n",
       "    }\n",
       "</style>\n",
       "<table border=\"1\" class=\"dataframe\">\n",
       "  <thead>\n",
       "    <tr style=\"text-align: right;\">\n",
       "      <th></th>\n",
       "      <th>Name</th>\n",
       "      <th>Hourly Wage</th>\n",
       "      <th>Type of contract</th>\n",
       "      <th>Daily Working Hours</th>\n",
       "      <th>Annual Income</th>\n",
       "    </tr>\n",
       "  </thead>\n",
       "  <tbody>\n",
       "    <tr>\n",
       "      <th>0</th>\n",
       "      <td>Jeremy</td>\n",
       "      <td>6</td>\n",
       "      <td>Part-Time</td>\n",
       "      <td>4</td>\n",
       "      <td>8760</td>\n",
       "    </tr>\n",
       "    <tr>\n",
       "      <th>1</th>\n",
       "      <td>Frank</td>\n",
       "      <td>7</td>\n",
       "      <td>Part-Time</td>\n",
       "      <td>4</td>\n",
       "      <td>10220</td>\n",
       "    </tr>\n",
       "    <tr>\n",
       "      <th>2</th>\n",
       "      <td>Janet</td>\n",
       "      <td>22</td>\n",
       "      <td>Full-Time</td>\n",
       "      <td>8</td>\n",
       "      <td>64240</td>\n",
       "    </tr>\n",
       "    <tr>\n",
       "      <th>3</th>\n",
       "      <td>Ryan</td>\n",
       "      <td>10</td>\n",
       "      <td>Part-Time</td>\n",
       "      <td>4</td>\n",
       "      <td>14600</td>\n",
       "    </tr>\n",
       "    <tr>\n",
       "      <th>4</th>\n",
       "      <td>Mary</td>\n",
       "      <td>32</td>\n",
       "      <td>Full-Time</td>\n",
       "      <td>8</td>\n",
       "      <td>93440</td>\n",
       "    </tr>\n",
       "    <tr>\n",
       "      <th>5</th>\n",
       "      <td>John</td>\n",
       "      <td>10</td>\n",
       "      <td>Part-Time</td>\n",
       "      <td>4</td>\n",
       "      <td>14600</td>\n",
       "    </tr>\n",
       "    <tr>\n",
       "      <th>6</th>\n",
       "      <td>Alex</td>\n",
       "      <td>29</td>\n",
       "      <td>Full-Time</td>\n",
       "      <td>8</td>\n",
       "      <td>84680</td>\n",
       "    </tr>\n",
       "    <tr>\n",
       "      <th>7</th>\n",
       "      <td>Maiki</td>\n",
       "      <td>10</td>\n",
       "      <td>Part-Time</td>\n",
       "      <td>4</td>\n",
       "      <td>14600</td>\n",
       "    </tr>\n",
       "    <tr>\n",
       "      <th>8</th>\n",
       "      <td>Alice</td>\n",
       "      <td>12</td>\n",
       "      <td>Part-Time</td>\n",
       "      <td>4</td>\n",
       "      <td>17520</td>\n",
       "    </tr>\n",
       "    <tr>\n",
       "      <th>9</th>\n",
       "      <td>Layla</td>\n",
       "      <td>10</td>\n",
       "      <td>Part-Time</td>\n",
       "      <td>4</td>\n",
       "      <td>14600</td>\n",
       "    </tr>\n",
       "    <tr>\n",
       "      <th>10</th>\n",
       "      <td>Hanna</td>\n",
       "      <td>30</td>\n",
       "      <td>Full-Time</td>\n",
       "      <td>8</td>\n",
       "      <td>87600</td>\n",
       "    </tr>\n",
       "  </tbody>\n",
       "</table>\n",
       "</div>"
      ],
      "text/plain": [
       "      Name  Hourly Wage Type of contract  Daily Working Hours  Annual Income\n",
       "0   Jeremy            6        Part-Time                    4           8760\n",
       "1    Frank            7        Part-Time                    4          10220\n",
       "2    Janet           22        Full-Time                    8          64240\n",
       "3     Ryan           10        Part-Time                    4          14600\n",
       "4     Mary           32        Full-Time                    8          93440\n",
       "5     John           10        Part-Time                    4          14600\n",
       "6     Alex           29        Full-Time                    8          84680\n",
       "7    Maiki           10        Part-Time                    4          14600\n",
       "8    Alice           12        Part-Time                    4          17520\n",
       "9    Layla           10        Part-Time                    4          14600\n",
       "10   Hanna           30        Full-Time                    8          87600"
      ]
     },
     "execution_count": 39,
     "metadata": {},
     "output_type": "execute_result"
    }
   ],
   "source": [
    "dataframe['Annual Income'] = dataframe.apply(lambda row : row[\"Daily Working Hours\"]*row[\"Hourly Wage\"]*365, axis = 1)\n",
    "dataframe"
   ]
  },
  {
   "cell_type": "markdown",
   "id": "93f0663c",
   "metadata": {},
   "source": [
    "- Exercise: Add a column \"Annual Tax Amount\", for each person calculate how much tax they pay each a year based on the annual income\n",
    "#### Personal income tax rates  :\n",
    "    - if the annual income is more than 64000, the tax rate would be 35%\n",
    "    - if the annual income is less than 64000, the tax rate would be 0%"
   ]
  },
  {
   "cell_type": "code",
   "execution_count": 40,
   "id": "be965d15",
   "metadata": {},
   "outputs": [
    {
     "data": {
      "text/html": [
       "<div>\n",
       "<style scoped>\n",
       "    .dataframe tbody tr th:only-of-type {\n",
       "        vertical-align: middle;\n",
       "    }\n",
       "\n",
       "    .dataframe tbody tr th {\n",
       "        vertical-align: top;\n",
       "    }\n",
       "\n",
       "    .dataframe thead th {\n",
       "        text-align: right;\n",
       "    }\n",
       "</style>\n",
       "<table border=\"1\" class=\"dataframe\">\n",
       "  <thead>\n",
       "    <tr style=\"text-align: right;\">\n",
       "      <th></th>\n",
       "      <th>Name</th>\n",
       "      <th>Hourly Wage</th>\n",
       "      <th>Type of contract</th>\n",
       "      <th>Daily Working Hours</th>\n",
       "      <th>Annual Income</th>\n",
       "      <th>Annual Tax %</th>\n",
       "    </tr>\n",
       "  </thead>\n",
       "  <tbody>\n",
       "    <tr>\n",
       "      <th>0</th>\n",
       "      <td>Jeremy</td>\n",
       "      <td>6</td>\n",
       "      <td>Part-Time</td>\n",
       "      <td>4</td>\n",
       "      <td>8760</td>\n",
       "      <td>0.00</td>\n",
       "    </tr>\n",
       "    <tr>\n",
       "      <th>1</th>\n",
       "      <td>Frank</td>\n",
       "      <td>7</td>\n",
       "      <td>Part-Time</td>\n",
       "      <td>4</td>\n",
       "      <td>10220</td>\n",
       "      <td>0.00</td>\n",
       "    </tr>\n",
       "    <tr>\n",
       "      <th>2</th>\n",
       "      <td>Janet</td>\n",
       "      <td>22</td>\n",
       "      <td>Full-Time</td>\n",
       "      <td>8</td>\n",
       "      <td>64240</td>\n",
       "      <td>0.35</td>\n",
       "    </tr>\n",
       "    <tr>\n",
       "      <th>3</th>\n",
       "      <td>Ryan</td>\n",
       "      <td>10</td>\n",
       "      <td>Part-Time</td>\n",
       "      <td>4</td>\n",
       "      <td>14600</td>\n",
       "      <td>0.00</td>\n",
       "    </tr>\n",
       "    <tr>\n",
       "      <th>4</th>\n",
       "      <td>Mary</td>\n",
       "      <td>32</td>\n",
       "      <td>Full-Time</td>\n",
       "      <td>8</td>\n",
       "      <td>93440</td>\n",
       "      <td>0.35</td>\n",
       "    </tr>\n",
       "    <tr>\n",
       "      <th>5</th>\n",
       "      <td>John</td>\n",
       "      <td>10</td>\n",
       "      <td>Part-Time</td>\n",
       "      <td>4</td>\n",
       "      <td>14600</td>\n",
       "      <td>0.00</td>\n",
       "    </tr>\n",
       "    <tr>\n",
       "      <th>6</th>\n",
       "      <td>Alex</td>\n",
       "      <td>29</td>\n",
       "      <td>Full-Time</td>\n",
       "      <td>8</td>\n",
       "      <td>84680</td>\n",
       "      <td>0.35</td>\n",
       "    </tr>\n",
       "    <tr>\n",
       "      <th>7</th>\n",
       "      <td>Maiki</td>\n",
       "      <td>10</td>\n",
       "      <td>Part-Time</td>\n",
       "      <td>4</td>\n",
       "      <td>14600</td>\n",
       "      <td>0.00</td>\n",
       "    </tr>\n",
       "    <tr>\n",
       "      <th>8</th>\n",
       "      <td>Alice</td>\n",
       "      <td>12</td>\n",
       "      <td>Part-Time</td>\n",
       "      <td>4</td>\n",
       "      <td>17520</td>\n",
       "      <td>0.00</td>\n",
       "    </tr>\n",
       "    <tr>\n",
       "      <th>9</th>\n",
       "      <td>Layla</td>\n",
       "      <td>10</td>\n",
       "      <td>Part-Time</td>\n",
       "      <td>4</td>\n",
       "      <td>14600</td>\n",
       "      <td>0.00</td>\n",
       "    </tr>\n",
       "    <tr>\n",
       "      <th>10</th>\n",
       "      <td>Hanna</td>\n",
       "      <td>30</td>\n",
       "      <td>Full-Time</td>\n",
       "      <td>8</td>\n",
       "      <td>87600</td>\n",
       "      <td>0.35</td>\n",
       "    </tr>\n",
       "  </tbody>\n",
       "</table>\n",
       "</div>"
      ],
      "text/plain": [
       "      Name  Hourly Wage Type of contract  Daily Working Hours  Annual Income  \\\n",
       "0   Jeremy            6        Part-Time                    4           8760   \n",
       "1    Frank            7        Part-Time                    4          10220   \n",
       "2    Janet           22        Full-Time                    8          64240   \n",
       "3     Ryan           10        Part-Time                    4          14600   \n",
       "4     Mary           32        Full-Time                    8          93440   \n",
       "5     John           10        Part-Time                    4          14600   \n",
       "6     Alex           29        Full-Time                    8          84680   \n",
       "7    Maiki           10        Part-Time                    4          14600   \n",
       "8    Alice           12        Part-Time                    4          17520   \n",
       "9    Layla           10        Part-Time                    4          14600   \n",
       "10   Hanna           30        Full-Time                    8          87600   \n",
       "\n",
       "    Annual Tax %  \n",
       "0           0.00  \n",
       "1           0.00  \n",
       "2           0.35  \n",
       "3           0.00  \n",
       "4           0.35  \n",
       "5           0.00  \n",
       "6           0.35  \n",
       "7           0.00  \n",
       "8           0.00  \n",
       "9           0.00  \n",
       "10          0.35  "
      ]
     },
     "execution_count": 40,
     "metadata": {},
     "output_type": "execute_result"
    }
   ],
   "source": [
    "dataframe['Annual Tax %'] = dataframe['Annual Income'].apply(lambda tax: 0.35 if tax>64000 else 0 )\n",
    "dataframe['Annual Tax %']\n",
    "dataframe"
   ]
  },
  {
   "cell_type": "code",
   "execution_count": 41,
   "id": "0e163ee4",
   "metadata": {},
   "outputs": [
    {
     "data": {
      "text/html": [
       "<div>\n",
       "<style scoped>\n",
       "    .dataframe tbody tr th:only-of-type {\n",
       "        vertical-align: middle;\n",
       "    }\n",
       "\n",
       "    .dataframe tbody tr th {\n",
       "        vertical-align: top;\n",
       "    }\n",
       "\n",
       "    .dataframe thead th {\n",
       "        text-align: right;\n",
       "    }\n",
       "</style>\n",
       "<table border=\"1\" class=\"dataframe\">\n",
       "  <thead>\n",
       "    <tr style=\"text-align: right;\">\n",
       "      <th></th>\n",
       "      <th>Name</th>\n",
       "      <th>Hourly Wage</th>\n",
       "      <th>Type of contract</th>\n",
       "      <th>Daily Working Hours</th>\n",
       "      <th>Annual Income</th>\n",
       "      <th>Annual Tax %</th>\n",
       "      <th>Annual Tax Amount</th>\n",
       "    </tr>\n",
       "  </thead>\n",
       "  <tbody>\n",
       "    <tr>\n",
       "      <th>0</th>\n",
       "      <td>Jeremy</td>\n",
       "      <td>6</td>\n",
       "      <td>Part-Time</td>\n",
       "      <td>4</td>\n",
       "      <td>8760</td>\n",
       "      <td>0.00</td>\n",
       "      <td>0.0</td>\n",
       "    </tr>\n",
       "    <tr>\n",
       "      <th>1</th>\n",
       "      <td>Frank</td>\n",
       "      <td>7</td>\n",
       "      <td>Part-Time</td>\n",
       "      <td>4</td>\n",
       "      <td>10220</td>\n",
       "      <td>0.00</td>\n",
       "      <td>0.0</td>\n",
       "    </tr>\n",
       "    <tr>\n",
       "      <th>2</th>\n",
       "      <td>Janet</td>\n",
       "      <td>22</td>\n",
       "      <td>Full-Time</td>\n",
       "      <td>8</td>\n",
       "      <td>64240</td>\n",
       "      <td>0.35</td>\n",
       "      <td>22484.0</td>\n",
       "    </tr>\n",
       "    <tr>\n",
       "      <th>3</th>\n",
       "      <td>Ryan</td>\n",
       "      <td>10</td>\n",
       "      <td>Part-Time</td>\n",
       "      <td>4</td>\n",
       "      <td>14600</td>\n",
       "      <td>0.00</td>\n",
       "      <td>0.0</td>\n",
       "    </tr>\n",
       "    <tr>\n",
       "      <th>4</th>\n",
       "      <td>Mary</td>\n",
       "      <td>32</td>\n",
       "      <td>Full-Time</td>\n",
       "      <td>8</td>\n",
       "      <td>93440</td>\n",
       "      <td>0.35</td>\n",
       "      <td>32704.0</td>\n",
       "    </tr>\n",
       "    <tr>\n",
       "      <th>5</th>\n",
       "      <td>John</td>\n",
       "      <td>10</td>\n",
       "      <td>Part-Time</td>\n",
       "      <td>4</td>\n",
       "      <td>14600</td>\n",
       "      <td>0.00</td>\n",
       "      <td>0.0</td>\n",
       "    </tr>\n",
       "    <tr>\n",
       "      <th>6</th>\n",
       "      <td>Alex</td>\n",
       "      <td>29</td>\n",
       "      <td>Full-Time</td>\n",
       "      <td>8</td>\n",
       "      <td>84680</td>\n",
       "      <td>0.35</td>\n",
       "      <td>29638.0</td>\n",
       "    </tr>\n",
       "    <tr>\n",
       "      <th>7</th>\n",
       "      <td>Maiki</td>\n",
       "      <td>10</td>\n",
       "      <td>Part-Time</td>\n",
       "      <td>4</td>\n",
       "      <td>14600</td>\n",
       "      <td>0.00</td>\n",
       "      <td>0.0</td>\n",
       "    </tr>\n",
       "    <tr>\n",
       "      <th>8</th>\n",
       "      <td>Alice</td>\n",
       "      <td>12</td>\n",
       "      <td>Part-Time</td>\n",
       "      <td>4</td>\n",
       "      <td>17520</td>\n",
       "      <td>0.00</td>\n",
       "      <td>0.0</td>\n",
       "    </tr>\n",
       "    <tr>\n",
       "      <th>9</th>\n",
       "      <td>Layla</td>\n",
       "      <td>10</td>\n",
       "      <td>Part-Time</td>\n",
       "      <td>4</td>\n",
       "      <td>14600</td>\n",
       "      <td>0.00</td>\n",
       "      <td>0.0</td>\n",
       "    </tr>\n",
       "    <tr>\n",
       "      <th>10</th>\n",
       "      <td>Hanna</td>\n",
       "      <td>30</td>\n",
       "      <td>Full-Time</td>\n",
       "      <td>8</td>\n",
       "      <td>87600</td>\n",
       "      <td>0.35</td>\n",
       "      <td>30660.0</td>\n",
       "    </tr>\n",
       "  </tbody>\n",
       "</table>\n",
       "</div>"
      ],
      "text/plain": [
       "      Name  Hourly Wage Type of contract  Daily Working Hours  Annual Income  \\\n",
       "0   Jeremy            6        Part-Time                    4           8760   \n",
       "1    Frank            7        Part-Time                    4          10220   \n",
       "2    Janet           22        Full-Time                    8          64240   \n",
       "3     Ryan           10        Part-Time                    4          14600   \n",
       "4     Mary           32        Full-Time                    8          93440   \n",
       "5     John           10        Part-Time                    4          14600   \n",
       "6     Alex           29        Full-Time                    8          84680   \n",
       "7    Maiki           10        Part-Time                    4          14600   \n",
       "8    Alice           12        Part-Time                    4          17520   \n",
       "9    Layla           10        Part-Time                    4          14600   \n",
       "10   Hanna           30        Full-Time                    8          87600   \n",
       "\n",
       "    Annual Tax %  Annual Tax Amount  \n",
       "0           0.00                0.0  \n",
       "1           0.00                0.0  \n",
       "2           0.35            22484.0  \n",
       "3           0.00                0.0  \n",
       "4           0.35            32704.0  \n",
       "5           0.00                0.0  \n",
       "6           0.35            29638.0  \n",
       "7           0.00                0.0  \n",
       "8           0.00                0.0  \n",
       "9           0.00                0.0  \n",
       "10          0.35            30660.0  "
      ]
     },
     "execution_count": 41,
     "metadata": {},
     "output_type": "execute_result"
    }
   ],
   "source": [
    "dataframe['Annual Tax Amount'] = dataframe.apply(lambda row: row['Annual Income']*row['Annual Tax %'], axis = 1)\n",
    "dataframe"
   ]
  },
  {
   "cell_type": "code",
   "execution_count": 42,
   "id": "41178af1",
   "metadata": {},
   "outputs": [
    {
     "data": {
      "text/html": [
       "<div>\n",
       "<style scoped>\n",
       "    .dataframe tbody tr th:only-of-type {\n",
       "        vertical-align: middle;\n",
       "    }\n",
       "\n",
       "    .dataframe tbody tr th {\n",
       "        vertical-align: top;\n",
       "    }\n",
       "\n",
       "    .dataframe thead th {\n",
       "        text-align: right;\n",
       "    }\n",
       "</style>\n",
       "<table border=\"1\" class=\"dataframe\">\n",
       "  <thead>\n",
       "    <tr style=\"text-align: right;\">\n",
       "      <th></th>\n",
       "      <th>Name</th>\n",
       "      <th>Hourly Wage</th>\n",
       "      <th>Type of contract</th>\n",
       "      <th>Daily Working Hours</th>\n",
       "      <th>Annual Income</th>\n",
       "      <th>Annual Tax %</th>\n",
       "      <th>Annual Tax Amount</th>\n",
       "      <th>Annual Tax amount</th>\n",
       "    </tr>\n",
       "  </thead>\n",
       "  <tbody>\n",
       "    <tr>\n",
       "      <th>0</th>\n",
       "      <td>Jeremy</td>\n",
       "      <td>6</td>\n",
       "      <td>Part-Time</td>\n",
       "      <td>4</td>\n",
       "      <td>8760</td>\n",
       "      <td>0.00</td>\n",
       "      <td>0.0</td>\n",
       "      <td>0.0</td>\n",
       "    </tr>\n",
       "    <tr>\n",
       "      <th>1</th>\n",
       "      <td>Frank</td>\n",
       "      <td>7</td>\n",
       "      <td>Part-Time</td>\n",
       "      <td>4</td>\n",
       "      <td>10220</td>\n",
       "      <td>0.00</td>\n",
       "      <td>0.0</td>\n",
       "      <td>0.0</td>\n",
       "    </tr>\n",
       "    <tr>\n",
       "      <th>2</th>\n",
       "      <td>Janet</td>\n",
       "      <td>22</td>\n",
       "      <td>Full-Time</td>\n",
       "      <td>8</td>\n",
       "      <td>64240</td>\n",
       "      <td>0.35</td>\n",
       "      <td>22484.0</td>\n",
       "      <td>22484.0</td>\n",
       "    </tr>\n",
       "    <tr>\n",
       "      <th>3</th>\n",
       "      <td>Ryan</td>\n",
       "      <td>10</td>\n",
       "      <td>Part-Time</td>\n",
       "      <td>4</td>\n",
       "      <td>14600</td>\n",
       "      <td>0.00</td>\n",
       "      <td>0.0</td>\n",
       "      <td>0.0</td>\n",
       "    </tr>\n",
       "    <tr>\n",
       "      <th>4</th>\n",
       "      <td>Mary</td>\n",
       "      <td>32</td>\n",
       "      <td>Full-Time</td>\n",
       "      <td>8</td>\n",
       "      <td>93440</td>\n",
       "      <td>0.35</td>\n",
       "      <td>32704.0</td>\n",
       "      <td>32704.0</td>\n",
       "    </tr>\n",
       "    <tr>\n",
       "      <th>5</th>\n",
       "      <td>John</td>\n",
       "      <td>10</td>\n",
       "      <td>Part-Time</td>\n",
       "      <td>4</td>\n",
       "      <td>14600</td>\n",
       "      <td>0.00</td>\n",
       "      <td>0.0</td>\n",
       "      <td>0.0</td>\n",
       "    </tr>\n",
       "    <tr>\n",
       "      <th>6</th>\n",
       "      <td>Alex</td>\n",
       "      <td>29</td>\n",
       "      <td>Full-Time</td>\n",
       "      <td>8</td>\n",
       "      <td>84680</td>\n",
       "      <td>0.35</td>\n",
       "      <td>29638.0</td>\n",
       "      <td>29638.0</td>\n",
       "    </tr>\n",
       "    <tr>\n",
       "      <th>7</th>\n",
       "      <td>Maiki</td>\n",
       "      <td>10</td>\n",
       "      <td>Part-Time</td>\n",
       "      <td>4</td>\n",
       "      <td>14600</td>\n",
       "      <td>0.00</td>\n",
       "      <td>0.0</td>\n",
       "      <td>0.0</td>\n",
       "    </tr>\n",
       "    <tr>\n",
       "      <th>8</th>\n",
       "      <td>Alice</td>\n",
       "      <td>12</td>\n",
       "      <td>Part-Time</td>\n",
       "      <td>4</td>\n",
       "      <td>17520</td>\n",
       "      <td>0.00</td>\n",
       "      <td>0.0</td>\n",
       "      <td>0.0</td>\n",
       "    </tr>\n",
       "    <tr>\n",
       "      <th>9</th>\n",
       "      <td>Layla</td>\n",
       "      <td>10</td>\n",
       "      <td>Part-Time</td>\n",
       "      <td>4</td>\n",
       "      <td>14600</td>\n",
       "      <td>0.00</td>\n",
       "      <td>0.0</td>\n",
       "      <td>0.0</td>\n",
       "    </tr>\n",
       "    <tr>\n",
       "      <th>10</th>\n",
       "      <td>Hanna</td>\n",
       "      <td>30</td>\n",
       "      <td>Full-Time</td>\n",
       "      <td>8</td>\n",
       "      <td>87600</td>\n",
       "      <td>0.35</td>\n",
       "      <td>30660.0</td>\n",
       "      <td>30660.0</td>\n",
       "    </tr>\n",
       "  </tbody>\n",
       "</table>\n",
       "</div>"
      ],
      "text/plain": [
       "      Name  Hourly Wage Type of contract  Daily Working Hours  Annual Income  \\\n",
       "0   Jeremy            6        Part-Time                    4           8760   \n",
       "1    Frank            7        Part-Time                    4          10220   \n",
       "2    Janet           22        Full-Time                    8          64240   \n",
       "3     Ryan           10        Part-Time                    4          14600   \n",
       "4     Mary           32        Full-Time                    8          93440   \n",
       "5     John           10        Part-Time                    4          14600   \n",
       "6     Alex           29        Full-Time                    8          84680   \n",
       "7    Maiki           10        Part-Time                    4          14600   \n",
       "8    Alice           12        Part-Time                    4          17520   \n",
       "9    Layla           10        Part-Time                    4          14600   \n",
       "10   Hanna           30        Full-Time                    8          87600   \n",
       "\n",
       "    Annual Tax %  Annual Tax Amount  Annual Tax amount  \n",
       "0           0.00                0.0                0.0  \n",
       "1           0.00                0.0                0.0  \n",
       "2           0.35            22484.0            22484.0  \n",
       "3           0.00                0.0                0.0  \n",
       "4           0.35            32704.0            32704.0  \n",
       "5           0.00                0.0                0.0  \n",
       "6           0.35            29638.0            29638.0  \n",
       "7           0.00                0.0                0.0  \n",
       "8           0.00                0.0                0.0  \n",
       "9           0.00                0.0                0.0  \n",
       "10          0.35            30660.0            30660.0  "
      ]
     },
     "execution_count": 42,
     "metadata": {},
     "output_type": "execute_result"
    }
   ],
   "source": [
    "dataframe['Annual Tax amount'] = dataframe['Annual Income'].apply(lambda e: e*35/100 if e >64000 else 0)\n",
    "dataframe"
   ]
  }
 ],
 "metadata": {
  "kernelspec": {
   "display_name": "Python 3 (ipykernel)",
   "language": "python",
   "name": "python3"
  },
  "language_info": {
   "codemirror_mode": {
    "name": "ipython",
    "version": 3
   },
   "file_extension": ".py",
   "mimetype": "text/x-python",
   "name": "python",
   "nbconvert_exporter": "python",
   "pygments_lexer": "ipython3",
   "version": "3.11.4"
  }
 },
 "nbformat": 4,
 "nbformat_minor": 5
}
